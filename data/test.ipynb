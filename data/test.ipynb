{
 "cells": [
  {
   "cell_type": "code",
   "execution_count": 3,
   "id": "f43fbf05",
   "metadata": {},
   "outputs": [],
   "source": [
    "import pandas as pd\n",
    "\n",
    "df = pd.read_parquet(\"./test.parquet\")"
   ]
  },
  {
   "cell_type": "code",
   "execution_count": 5,
   "id": "825ff370",
   "metadata": {},
   "outputs": [
    {
     "data": {
      "text/plain": [
       "{'flow_iat_mean': 37347.875,\n",
       " 'psh_flag_count': 1,\n",
       " 'fwd_packets/s': 10.040731430053711,\n",
       " 'bwd_packet_length_std': 2189.77294921875,\n",
       " 'init_win_bytes_forward': 8192,\n",
       " 'active_min': 0.0,\n",
       " 'bwd_packets/s': 3.048394203186035,\n",
       " 'subflow_fwd_bytes': 3.295836925506592,\n",
       " 'active_std': 0.0,\n",
       " 'urg_flag_count': 0,\n",
       " 'init_win_bytes_backward': 229,\n",
       " 'act_data_pkt_fwd': 1.0986123085021973,\n",
       " 'fwd_iat_std': 2271.93408203125,\n",
       " 'bwd_packet_length_min': 0,\n",
       " 'fwd_iat_total': 3903,\n",
       " 'min_packet_length': 0.0,\n",
       " 'total_fwd_packets': 1.3862943649291992,\n",
       " 'fwd_packet_length_mean': 8.666666984558105,\n",
       " 'fwd_packet_length_std': 2.4215409755706787,\n",
       " 'fin_flag_count': 0,\n",
       " 'bwd_iat_std': 131279.71875,\n",
       " 'min_seg_size_forward': 20,\n",
       " 'bwd_iat_max': 294577,\n",
       " 'label': 'DDoS'}"
      ]
     },
     "execution_count": 5,
     "metadata": {},
     "output_type": "execute_result"
    }
   ],
   "source": [
    "df.iloc[1].to_dict()"
   ]
  }
 ],
 "metadata": {
  "kernelspec": {
   "display_name": "mlopsenv",
   "language": "python",
   "name": "python3"
  },
  "language_info": {
   "codemirror_mode": {
    "name": "ipython",
    "version": 3
   },
   "file_extension": ".py",
   "mimetype": "text/x-python",
   "name": "python",
   "nbconvert_exporter": "python",
   "pygments_lexer": "ipython3",
   "version": "3.10.11"
  }
 },
 "nbformat": 4,
 "nbformat_minor": 5
}
